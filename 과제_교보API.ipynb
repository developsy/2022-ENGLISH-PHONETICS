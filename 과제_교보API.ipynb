{
 "cells": [
  {
   "cell_type": "code",
   "execution_count": null,
   "metadata": {
    "colab": {
     "base_uri": "https://localhost:8080/"
    },
    "id": "nhZj-Bi8Atg2",
    "outputId": "deef8d28-3d62-4c2e-d70e-515a31ef5294"
   },
   "outputs": [],
   "source": [
    "import pandas as pd\n",
    "import json\n",
    "import requests\n",
    "\n",
    "!pip install gradio\n",
    "import gradio as gr\n",
    "\n",
    "!pip install xmltodict\n",
    "import xmltodict"
   ]
  },
  {
   "cell_type": "code",
   "execution_count": null,
   "metadata": {
    "id": "PIAeCrSOwd6w"
   },
   "outputs": [],
   "source": [
    "def test(bookID):\n",
    "  URL = ('https://product.kyobobook.co.kr/api/review/list?page=1&pageLimit=10000&reviewSort=001&revwPatrCode=000&saleCmdtid=' + bookID)\n",
    "  response = requests.get(URL)\n",
    "  json_txt = response.text\n",
    "  dict_data = json.loads(json_txt)\n",
    "  item = dict_data['data']['reviewList']\n",
    "  df = pd.DataFrame(item).loc[:, 'mmbrNum':'revwCntt']\n",
    "  return df"
   ]
  },
  {
   "cell_type": "code",
   "execution_count": null,
   "metadata": {
    "colab": {
     "base_uri": "https://localhost:8080/",
     "height": 593
    },
    "id": "D1D6b1V9wd01",
    "outputId": "ad8481ee-334b-4461-c385-3c59ef45e90c"
   },
   "outputs": [],
   "source": [
    "demo = gr.Interface(fn=test, inputs=[\"text\"], outputs=\"dataframe\")\n",
    "demo.launch(share=True)"
   ]
  }
 ],
 "metadata": {
  "colab": {
   "provenance": []
  },
  "kernelspec": {
   "display_name": "Python 3",
   "language": "python",
   "name": "python3"
  },
  "language_info": {
   "codemirror_mode": {
    "name": "ipython",
    "version": 3
   },
   "file_extension": ".py",
   "mimetype": "text/x-python",
   "name": "python",
   "nbconvert_exporter": "python",
   "pygments_lexer": "ipython3",
   "version": "3.8.5"
  }
 },
 "nbformat": 4,
 "nbformat_minor": 1
}
